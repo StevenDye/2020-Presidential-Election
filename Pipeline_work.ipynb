{
 "cells": [
  {
   "cell_type": "code",
   "execution_count": 1,
   "metadata": {},
   "outputs": [],
   "source": [
    "# # Scale data\n",
    "# scaler = StandardScaler()\n",
    "# # mmscaler = MinMaxScaler()\n",
    "# scaler.fit(X_train)\n",
    "\n",
    "# linreg = LinearRegression()\n",
    "# linreg.fit(X_train, y_train)\n",
    "\n",
    "# run_model(linreg, X_train, X_test, y_train, y_test)"
   ]
  },
  {
   "cell_type": "code",
   "execution_count": null,
   "metadata": {},
   "outputs": [],
   "source": [
    "from sklearn.pipeline import Pipeline\n",
    "\n",
    "pipe_scl_lin = Pipeline([('scl', StandardScaler()), ('lin', LinearRegression())])\n",
    "pipe_mms_lin = Pipeline([('mms', MinMaxScaler()), ('lin', LinearRegression())])\n",
    "\n",
    "pipelines = [pipe_scl_lin, pipe_mms_lin]\n",
    "pipeline_names = ['Standard Scalar Linear','Min Max Linear']\n",
    "\n",
    "y_trains = [y_train_R, y_train_D, y_train_O]\n",
    "for y in y_trains: \n",
    "#for target in targets:\n",
    "    for pipe in pipelines:\n",
    "        print(pipe)\n",
    "        pipe.fit(X_train, y)\n",
    "    \n",
    "# Compare accuracies\n",
    "targets = [y_test_R, y_test_D, y_test_O]\n",
    "for target in targets:\n",
    "    for index, val in enumerate(pipelines):\n",
    "        print('%s pipeline test accuracy: %.3f' % (pipeline_names[index],\n",
    "                                                   val.score(X_test, target)))"
   ]
  },
  {
   "cell_type": "markdown",
   "metadata": {},
   "source": [
    "## Evaluate Model"
   ]
  },
  {
   "cell_type": "code",
   "execution_count": null,
   "metadata": {},
   "outputs": [],
   "source": []
  }
 ],
 "metadata": {
  "kernelspec": {
   "display_name": "Python 3",
   "language": "python",
   "name": "python3"
  },
  "language_info": {
   "codemirror_mode": {
    "name": "ipython",
    "version": 3
   },
   "file_extension": ".py",
   "mimetype": "text/x-python",
   "name": "python",
   "nbconvert_exporter": "python",
   "pygments_lexer": "ipython3",
   "version": "3.6.5"
  }
 },
 "nbformat": 4,
 "nbformat_minor": 2
}
