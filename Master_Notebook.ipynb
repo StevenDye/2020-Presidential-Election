{
 "cells": [
  {
   "cell_type": "code",
   "execution_count": 1,
   "metadata": {},
   "outputs": [],
   "source": [
    "import matplotlib.pyplot as plt\n",
    "import numpy as np\n",
    "import pandas as pd\n",
    "import scipy\n",
    "from sklearn.feature_selection import RFE, RFECV\n",
    "from sklearn.linear_model import LinearRegression\n",
    "from sklearn.model_selection import train_test_split, cross_validate\n",
    "from sklearn.preprocessing import MinMaxScaler, StandardScaler\n",
    "\n",
    "from data_prep import county_info_2016, county_info_2018, results_info, create_targets\n",
    "from model_prep import run_model\n",
    "from visualizations import display_results\n",
    "\n",
    "np.random.seed(2020)"
   ]
  },
  {
   "cell_type": "markdown",
   "metadata": {},
   "source": [
    "## Data\n",
    "\n",
    "The demographic information was obtained from the U.S. Cencus website. The 5 year study was used in order to obtain the most accurate information for smaller countues. The results data was obtained from the MIT Election Data and Science Lab."
   ]
  },
  {
   "cell_type": "code",
   "execution_count": 2,
   "metadata": {},
   "outputs": [],
   "source": [
    "features_2016 = county_info_2016()\n",
    "features_2018 = county_info_2018()\n",
    "results_2016 = results_info(2016)\n",
    "# results_2012 = results_info(2012)"
   ]
  },
  {
   "cell_type": "code",
   "execution_count": 3,
   "metadata": {},
   "outputs": [],
   "source": [
    "df = pd.merge(features_2016, results_2016, on='County')\n",
    "df = create_targets(df)"
   ]
  },
  {
   "cell_type": "markdown",
   "metadata": {},
   "source": [
    "## Methedology"
   ]
  },
  {
   "cell_type": "code",
   "execution_count": 4,
   "metadata": {},
   "outputs": [],
   "source": [
    "y_R = df['Percent Republican']\n",
    "y_D = df['Percent Democrat']\n",
    "y_O = df['Percent Republican']\n",
    "\n",
    "dropped_features = ['County', 'State', 'Republican', 'Democrat', 'Other',\n",
    "                    'Total population', 'Percent Republican',\n",
    "                    'Percent Democrat', 'Percent Other']\n",
    "\n",
    "X = df.drop(columns=dropped_features)"
   ]
  },
  {
   "cell_type": "code",
   "execution_count": 5,
   "metadata": {},
   "outputs": [],
   "source": [
    "X_train, X_test, y_train_R, y_test_R = train_test_split(X, y_R, random_state=2020)\n",
    "X_train, X_test, y_train_D, y_test_D = train_test_split(X, y_D, random_state=2020)\n",
    "X_train, X_test, y_train_O, y_test_O = train_test_split(X, y_O, random_state=2020)"
   ]
  },
  {
   "cell_type": "code",
   "execution_count": 6,
   "metadata": {},
   "outputs": [
    {
     "ename": "NameError",
     "evalue": "name 'y_train' is not defined",
     "output_type": "error",
     "traceback": [
      "\u001b[0;31m---------------------------------------------------------------------------\u001b[0m",
      "\u001b[0;31mNameError\u001b[0m                                 Traceback (most recent call last)",
      "\u001b[0;32m<ipython-input-6-41ab15ffde2f>\u001b[0m in \u001b[0;36m<module>\u001b[0;34m()\u001b[0m\n\u001b[1;32m     10\u001b[0m \u001b[0;34m\u001b[0m\u001b[0m\n\u001b[1;32m     11\u001b[0m \u001b[0mlinreg\u001b[0m \u001b[0;34m=\u001b[0m \u001b[0mLinearRegression\u001b[0m\u001b[0;34m(\u001b[0m\u001b[0;34m)\u001b[0m\u001b[0;34m\u001b[0m\u001b[0m\n\u001b[0;32m---> 12\u001b[0;31m \u001b[0mlinreg\u001b[0m\u001b[0;34m.\u001b[0m\u001b[0mfit\u001b[0m\u001b[0;34m(\u001b[0m\u001b[0mX_train\u001b[0m\u001b[0;34m,\u001b[0m \u001b[0my_train\u001b[0m\u001b[0;34m)\u001b[0m\u001b[0;34m\u001b[0m\u001b[0m\n\u001b[0m\u001b[1;32m     13\u001b[0m \u001b[0;34m\u001b[0m\u001b[0m\n\u001b[1;32m     14\u001b[0m \u001b[0mrun_model\u001b[0m\u001b[0;34m(\u001b[0m\u001b[0mlinreg\u001b[0m\u001b[0;34m,\u001b[0m \u001b[0mX_train\u001b[0m\u001b[0;34m,\u001b[0m \u001b[0mX_test\u001b[0m\u001b[0;34m,\u001b[0m \u001b[0my_train\u001b[0m\u001b[0;34m,\u001b[0m \u001b[0my_test\u001b[0m\u001b[0;34m)\u001b[0m\u001b[0;34m\u001b[0m\u001b[0m\n",
      "\u001b[0;31mNameError\u001b[0m: name 'y_train' is not defined"
     ]
    }
   ],
   "source": [
    "# Scale data\n",
    "scaler = StandardScaler()\n",
    "# # mmscaler = MinMaxScaler()\n",
    "scaler.fit(X_train)\n",
    "# X_train, X_test, y_train, y_test = train_test_split(X, y_R)\n",
    "\n",
    "targets = [y_R, y_D, y_O]\n",
    "\n",
    "# for target in targets:\n",
    "\n",
    "# linreg = LinearRegression()\n",
    "# linreg.fit(X_train, y_train)\n",
    "\n",
    "# run_model(linreg, X_train, X_test, y_train, y_test)"
   ]
  },
  {
   "cell_type": "code",
   "execution_count": 7,
   "metadata": {},
   "outputs": [
    {
     "name": "stdout",
     "output_type": "stream",
     "text": [
      "Pipeline(memory=None,\n",
      "         steps=[('scl',\n",
      "                 StandardScaler(copy=True, with_mean=True, with_std=True)),\n",
      "                ('lin',\n",
      "                 LinearRegression(copy_X=True, fit_intercept=True, n_jobs=None,\n",
      "                                  normalize=False))],\n",
      "         verbose=False)\n",
      "Pipeline(memory=None,\n",
      "         steps=[('mms', MinMaxScaler(copy=True, feature_range=(0, 1))),\n",
      "                ('lin',\n",
      "                 LinearRegression(copy_X=True, fit_intercept=True, n_jobs=None,\n",
      "                                  normalize=False))],\n",
      "         verbose=False)\n",
      "Standard Scalar Linear pipeline test accuracy: 0.499\n",
      "Min Max Linear pipeline test accuracy: 0.499\n"
     ]
    }
   ],
   "source": [
    "from sklearn.pipeline import Pipeline\n",
    "\n",
    "pipe_scl_lin = Pipeline([('scl', StandardScaler()), ('lin', LinearRegression())])\n",
    "pipe_mms_lin = Pipeline([('mms', MinMaxScaler()), ('lin', LinearRegression())])\n",
    "\n",
    "pipelines = [pipe_scl_lin, pipe_mms_lin]\n",
    "pipeline_names = ['Standard Scalar Linear','Min Max Linear']\n",
    "\n",
    "for target in targets:\n",
    "    for pipe in pipelines:\n",
    "        print(pipe)\n",
    "        pipe.fit(target, X_train, y_train)\n",
    "    \n",
    "# Compare accuracies\n",
    "for index, val in enumerate(pipelines):\n",
    "    print('%s pipeline test accuracy: %.3f' % (pipeline_names[index], val.score(X_test, y_test)))"
   ]
  },
  {
   "cell_type": "markdown",
   "metadata": {},
   "source": [
    "## Evaluate model"
   ]
  },
  {
   "cell_type": "code",
   "execution_count": 7,
   "metadata": {},
   "outputs": [
    {
     "data": {
      "text/plain": [
       "array([0.47340205, 0.48222382, 0.49402013])"
      ]
     },
     "execution_count": 7,
     "metadata": {},
     "output_type": "execute_result"
    }
   ],
   "source": [
    "cv_results = cross_validate(linreg, X_train, y_train, cv=3)\n",
    "cv_results['test_score']"
   ]
  },
  {
   "cell_type": "code",
   "execution_count": 8,
   "metadata": {},
   "outputs": [
    {
     "data": {
      "text/plain": [
       "(0.5007163542092132, 0.4966880684072258)"
      ]
     },
     "execution_count": 8,
     "metadata": {},
     "output_type": "execute_result"
    }
   ],
   "source": [
    "R_score = linreg.score(X_train, y_train)\n",
    "R_score_adj = 1 - (1-R_score)*(len(y_train)-1)/(len(y_train)-X_train.shape[1]-1)\n",
    "R_score, R_score_adj"
   ]
  },
  {
   "cell_type": "code",
   "execution_count": 9,
   "metadata": {},
   "outputs": [
    {
     "name": "stdout",
     "output_type": "stream",
     "text": [
      "Training R^2 : 0.5004194112607195\n",
      "Training Root Mean Square Error 0.05889046221323055\n",
      "\n",
      "----------------\n",
      "\n",
      "Testing R^2 : 0.4983977248615823\n",
      "Testing Root Mean Square Error 0.06044273150173074\n",
      "The optimal number of features is:  17\n"
     ]
    }
   ],
   "source": [
    "# Run feature selection\n",
    "rfe = RFECV(LinearRegression(),cv=5)\n",
    "X_rfe_train = rfe.fit_transform(X_train, y_train)\n",
    "X_rfe_test = rfe.transform(X_test)\n",
    "lm = LinearRegression().fit(X_rfe_train, y_train)\n",
    "run_model(lm, X_rfe_train, X_rfe_test, y_train, y_test)\n",
    "print ('The optimal number of features is: ', rfe.n_features_)"
   ]
  },
  {
   "cell_type": "code",
   "execution_count": 10,
   "metadata": {},
   "outputs": [
    {
     "name": "stdout",
     "output_type": "stream",
     "text": [
      "(-0.28181079020950217, 2.4011139641929113e-42) Percent Less than 9th grade\n",
      "(-0.2260358652191395, 1.8539187422309877e-27) Percent 9th to 12th grade, no diploma\n",
      "(0.3224882957064082, 1.2904552138944084e-55) Percent High school graduate\n",
      "(0.2081323932773334, 1.9307173494920278e-23) Percent Some college, no degree\n",
      "(0.2073429016714844, 2.8489022812289295e-23) Percent Associate's degree\n",
      "(-0.09358880736573988, 8.723918845290635e-06) Percent Bachelor's degree\n",
      "(-0.2950135855476507, 2.021395424694845e-46) Percent Graduate or professional degree\n",
      "(0.5870174126624991, 1.6522454247205585e-208) Median age\n",
      "(-0.008782749015473122, 0.6771327730251022) Sex ratio (males per 100 females)\n",
      "(0.5927263139382977, 1.4849130554733257e-213) Male Median age\n",
      "(0.5471927119330278, 6.05329407713593e-176) Female Median age\n",
      "(0.058290718385103156, 0.005678563239162909) Percent White\n",
      "(-0.07272588524788848, 0.000555732972079907) Percent Black or African American\n",
      "(0.010775052825567627, 0.6094655900693202) Percent American Indian and Alaska Native\n",
      "(-0.012841548769531872, 0.5426472341970059) Percent Asian\n",
      "(0.024502449161547188, 0.2453241231144399) Percent Hispanic or Latino\n",
      "(-0.0022194631781849044, 0.916201233942583) Households Median income\n",
      "(-0.062243742475910684, 0.003139855413766705) Households Mean income\n"
     ]
    }
   ],
   "source": [
    "# Calculates a Pearson correlation coefficient and the p-value for testing non-correlation.\n",
    "for column in X_train.columns.tolist():\n",
    "    print(scipy.stats.pearsonr(X_train[column], y_train), column)"
   ]
  },
  {
   "cell_type": "code",
   "execution_count": 11,
   "metadata": {},
   "outputs": [],
   "source": [
    "y_hat_train = linreg.predict(X_train)\n",
    "y_hat_test = linreg.predict(X_test)\n",
    "\n",
    "y_train_df = pd.DataFrame(y_train)\n",
    "train_actual = y_train_df.merge(df['Republican'], left_index=True, right_index=True)\n",
    "train_actual = train_actual.merge(df['Total population'],\n",
    "                                  left_index=True, right_index=True)\n",
    "\n",
    "y_test_df = pd.DataFrame(y_test)\n",
    "test_actual = y_test_df.merge(df['Republican'], left_index=True, right_index=True)\n",
    "test_actual = test_actual.merge(df['Total population'],\n",
    "                                  left_index=True, right_index=True)"
   ]
  },
  {
   "cell_type": "code",
   "execution_count": 12,
   "metadata": {},
   "outputs": [
    {
     "name": "stdout",
     "output_type": "stream",
     "text": [
      "639.5210503309995 639.5210503309996 17.43887510387618\n",
      "209.32997235653346 212.2582480071143 17.596085114372567\n"
     ]
    }
   ],
   "source": [
    "train_df = display_results(train_actual, y_hat_train, df['County'])\n",
    "test_df = display_results(test_actual, y_hat_test, df['County'])"
   ]
  },
  {
   "cell_type": "code",
   "execution_count": 13,
   "metadata": {},
   "outputs": [
    {
     "data": {
      "text/html": [
       "<div>\n",
       "<style scoped>\n",
       "    .dataframe tbody tr th:only-of-type {\n",
       "        vertical-align: middle;\n",
       "    }\n",
       "\n",
       "    .dataframe tbody tr th {\n",
       "        vertical-align: top;\n",
       "    }\n",
       "\n",
       "    .dataframe thead th {\n",
       "        text-align: right;\n",
       "    }\n",
       "</style>\n",
       "<table border=\"1\" class=\"dataframe\">\n",
       "  <thead>\n",
       "    <tr style=\"text-align: right;\">\n",
       "      <th></th>\n",
       "      <th>County</th>\n",
       "      <th>Percent Republican</th>\n",
       "      <th>Republican</th>\n",
       "      <th>Total population</th>\n",
       "      <th>Predictions</th>\n",
       "      <th>Percent off</th>\n",
       "      <th>Percent off Abs</th>\n",
       "      <th>R Votes Prediction</th>\n",
       "    </tr>\n",
       "  </thead>\n",
       "  <tbody>\n",
       "    <tr>\n",
       "      <th>0</th>\n",
       "      <td>Wilcox County, Alabama, 2016</td>\n",
       "      <td>0.156219</td>\n",
       "      <td>1737</td>\n",
       "      <td>11119</td>\n",
       "      <td>0.254548</td>\n",
       "      <td>-38.6288</td>\n",
       "      <td>38.6288</td>\n",
       "      <td>2830.315598</td>\n",
       "    </tr>\n",
       "    <tr>\n",
       "      <th>1</th>\n",
       "      <td>Winston County, Alabama, 2016</td>\n",
       "      <td>0.384292</td>\n",
       "      <td>9228</td>\n",
       "      <td>24013</td>\n",
       "      <td>0.263344</td>\n",
       "      <td>45.9277</td>\n",
       "      <td>45.9277</td>\n",
       "      <td>6323.681365</td>\n",
       "    </tr>\n",
       "    <tr>\n",
       "      <th>2</th>\n",
       "      <td>Apache County, Arizona, 2016</td>\n",
       "      <td>0.113897</td>\n",
       "      <td>8240</td>\n",
       "      <td>72346</td>\n",
       "      <td>0.220976</td>\n",
       "      <td>-48.4572</td>\n",
       "      <td>48.4572</td>\n",
       "      <td>15986.718882</td>\n",
       "    </tr>\n",
       "    <tr>\n",
       "      <th>3</th>\n",
       "      <td>Cochise County, Arizona, 2016</td>\n",
       "      <td>0.219166</td>\n",
       "      <td>28092</td>\n",
       "      <td>128177</td>\n",
       "      <td>0.261310</td>\n",
       "      <td>-16.128</td>\n",
       "      <td>16.128</td>\n",
       "      <td>33493.898017</td>\n",
       "    </tr>\n",
       "    <tr>\n",
       "      <th>5</th>\n",
       "      <td>Gila County, Arizona, 2016</td>\n",
       "      <td>0.266684</td>\n",
       "      <td>14182</td>\n",
       "      <td>53179</td>\n",
       "      <td>0.317587</td>\n",
       "      <td>-16.0279</td>\n",
       "      <td>16.0279</td>\n",
       "      <td>16888.940083</td>\n",
       "    </tr>\n",
       "  </tbody>\n",
       "</table>\n",
       "</div>"
      ],
      "text/plain": [
       "                          County Percent Republican Republican  \\\n",
       "0   Wilcox County, Alabama, 2016           0.156219       1737   \n",
       "1  Winston County, Alabama, 2016           0.384292       9228   \n",
       "2   Apache County, Arizona, 2016           0.113897       8240   \n",
       "3  Cochise County, Arizona, 2016           0.219166      28092   \n",
       "5     Gila County, Arizona, 2016           0.266684      14182   \n",
       "\n",
       "   Total population  Predictions Percent off Percent off Abs  \\\n",
       "0             11119     0.254548    -38.6288         38.6288   \n",
       "1             24013     0.263344     45.9277         45.9277   \n",
       "2             72346     0.220976    -48.4572         48.4572   \n",
       "3            128177     0.261310     -16.128          16.128   \n",
       "5             53179     0.317587    -16.0279         16.0279   \n",
       "\n",
       "   R Votes Prediction  \n",
       "0         2830.315598  \n",
       "1         6323.681365  \n",
       "2        15986.718882  \n",
       "3        33493.898017  \n",
       "5        16888.940083  "
      ]
     },
     "execution_count": 13,
     "metadata": {},
     "output_type": "execute_result"
    }
   ],
   "source": [
    "train_df.head()"
   ]
  },
  {
   "cell_type": "code",
   "execution_count": 14,
   "metadata": {},
   "outputs": [
    {
     "data": {
      "text/html": [
       "<div>\n",
       "<style scoped>\n",
       "    .dataframe tbody tr th:only-of-type {\n",
       "        vertical-align: middle;\n",
       "    }\n",
       "\n",
       "    .dataframe tbody tr th {\n",
       "        vertical-align: top;\n",
       "    }\n",
       "\n",
       "    .dataframe thead th {\n",
       "        text-align: right;\n",
       "    }\n",
       "</style>\n",
       "<table border=\"1\" class=\"dataframe\">\n",
       "  <thead>\n",
       "    <tr style=\"text-align: right;\">\n",
       "      <th></th>\n",
       "      <th>County</th>\n",
       "      <th>Percent Republican</th>\n",
       "      <th>Republican</th>\n",
       "      <th>Total population</th>\n",
       "      <th>Predictions</th>\n",
       "      <th>Percent off</th>\n",
       "      <th>Percent off Abs</th>\n",
       "      <th>R Votes Prediction</th>\n",
       "    </tr>\n",
       "  </thead>\n",
       "  <tbody>\n",
       "    <tr>\n",
       "      <th>4</th>\n",
       "      <td>Coconino County, Arizona, 2016</td>\n",
       "      <td>0.152886</td>\n",
       "      <td>21108</td>\n",
       "      <td>138064</td>\n",
       "      <td>0.162364</td>\n",
       "      <td>-5.83796</td>\n",
       "      <td>5.83796</td>\n",
       "      <td>22416.676828</td>\n",
       "    </tr>\n",
       "    <tr>\n",
       "      <th>8</th>\n",
       "      <td>La Paz County, Arizona, 2016</td>\n",
       "      <td>0.197153</td>\n",
       "      <td>4003</td>\n",
       "      <td>20304</td>\n",
       "      <td>0.363013</td>\n",
       "      <td>-45.6898</td>\n",
       "      <td>45.6898</td>\n",
       "      <td>7370.616974</td>\n",
       "    </tr>\n",
       "    <tr>\n",
       "      <th>10</th>\n",
       "      <td>Mohave County, Arizona, 2016</td>\n",
       "      <td>0.286217</td>\n",
       "      <td>58282</td>\n",
       "      <td>203629</td>\n",
       "      <td>0.356485</td>\n",
       "      <td>-19.7114</td>\n",
       "      <td>19.7114</td>\n",
       "      <td>72590.654559</td>\n",
       "    </tr>\n",
       "    <tr>\n",
       "      <th>11</th>\n",
       "      <td>Navajo County, Arizona, 2016</td>\n",
       "      <td>0.19016</td>\n",
       "      <td>20577</td>\n",
       "      <td>108209</td>\n",
       "      <td>0.226597</td>\n",
       "      <td>-16.0802</td>\n",
       "      <td>16.0802</td>\n",
       "      <td>24519.852584</td>\n",
       "    </tr>\n",
       "    <tr>\n",
       "      <th>12</th>\n",
       "      <td>Pima County, Arizona, 2016</td>\n",
       "      <td>0.166871</td>\n",
       "      <td>167428</td>\n",
       "      <td>1003338</td>\n",
       "      <td>0.215052</td>\n",
       "      <td>-22.4044</td>\n",
       "      <td>22.4044</td>\n",
       "      <td>215769.991302</td>\n",
       "    </tr>\n",
       "  </tbody>\n",
       "</table>\n",
       "</div>"
      ],
      "text/plain": [
       "                            County Percent Republican Republican  \\\n",
       "4   Coconino County, Arizona, 2016           0.152886      21108   \n",
       "8     La Paz County, Arizona, 2016           0.197153       4003   \n",
       "10    Mohave County, Arizona, 2016           0.286217      58282   \n",
       "11    Navajo County, Arizona, 2016            0.19016      20577   \n",
       "12      Pima County, Arizona, 2016           0.166871     167428   \n",
       "\n",
       "    Total population  Predictions Percent off Percent off Abs  \\\n",
       "4             138064     0.162364    -5.83796         5.83796   \n",
       "8              20304     0.363013    -45.6898         45.6898   \n",
       "10            203629     0.356485    -19.7114         19.7114   \n",
       "11            108209     0.226597    -16.0802         16.0802   \n",
       "12           1003338     0.215052    -22.4044         22.4044   \n",
       "\n",
       "    R Votes Prediction  \n",
       "4         22416.676828  \n",
       "8          7370.616974  \n",
       "10        72590.654559  \n",
       "11        24519.852584  \n",
       "12       215769.991302  "
      ]
     },
     "execution_count": 14,
     "metadata": {},
     "output_type": "execute_result"
    }
   ],
   "source": [
    "test_df.head()"
   ]
  },
  {
   "cell_type": "code",
   "execution_count": 15,
   "metadata": {},
   "outputs": [
    {
     "data": {
      "text/plain": [
       "DecisionTreeRegressor(criterion='mse', max_depth=3, max_features=None,\n",
       "                      max_leaf_nodes=None, min_impurity_decrease=0.0,\n",
       "                      min_impurity_split=None, min_samples_leaf=1,\n",
       "                      min_samples_split=2, min_weight_fraction_leaf=0.0,\n",
       "                      presort=False, random_state=None, splitter='best')"
      ]
     },
     "execution_count": 15,
     "metadata": {},
     "output_type": "execute_result"
    }
   ],
   "source": [
    "from sklearn.tree import DecisionTreeRegressor\n",
    "regressor = DecisionTreeRegressor(max_depth=3)\n",
    "regressor.fit(X_train, y_train)"
   ]
  },
  {
   "cell_type": "code",
   "execution_count": 16,
   "metadata": {},
   "outputs": [
    {
     "name": "stdout",
     "output_type": "stream",
     "text": [
      "MSE score: 0.004686905131005424\n",
      "R-sq score: 0.3564867470519061\n"
     ]
    }
   ],
   "source": [
    "from sklearn.metrics import mean_squared_error as mse\n",
    "from sklearn.metrics import r2_score\n",
    "\n",
    "# Make predictions and evaluate \n",
    "y_pred = regressor.predict(X_test)\n",
    "print('MSE score:', mse(y_test, y_pred))\n",
    "print('R-sq score:', r2_score(y_test,y_pred))"
   ]
  },
  {
   "cell_type": "code",
   "execution_count": 17,
   "metadata": {},
   "outputs": [],
   "source": [
    "y_check = regressor.predict(X_train)"
   ]
  },
  {
   "cell_type": "code",
   "execution_count": 18,
   "metadata": {},
   "outputs": [],
   "source": [
    "# X_grid = np.arange(min(X), max(X), 0.01)\n",
    "# X_grid = X_grid.reshape((len(X_grid), 1))\n",
    "# plt.figure(figsize=(15,6))\n",
    "# plt.scatter(X, y, color = 'red', label='data')\n",
    "# plt.plot(X_grid, regressor.predict(X_grid), color = 'green', label='Regression function')\n",
    "# plt.title('Decision Tree Regression')\n",
    "# plt.xlabel('Features')\n",
    "# plt.ylabel('Target')\n",
    "# plt.legend()\n",
    "# plt.show()"
   ]
  },
  {
   "cell_type": "code",
   "execution_count": 19,
   "metadata": {},
   "outputs": [
    {
     "data": {
      "text/plain": [
       "'Sex ratio (males per 100 females)'"
      ]
     },
     "execution_count": 19,
     "metadata": {},
     "output_type": "execute_result"
    }
   ],
   "source": [
    "max(X)"
   ]
  },
  {
   "cell_type": "code",
   "execution_count": 20,
   "metadata": {},
   "outputs": [
    {
     "name": "stdout",
     "output_type": "stream",
     "text": [
      "639.5210503309995 639.5210503309996 18.164264831319187\n",
      "209.32997235653346 211.28739613340971 19.27501234546834\n"
     ]
    }
   ],
   "source": [
    "train2_df = display_results(train_actual, y_check, df['County'])\n",
    "test2_df = display_results(test_actual, y_pred, df['County'])"
   ]
  },
  {
   "cell_type": "code",
   "execution_count": 21,
   "metadata": {},
   "outputs": [
    {
     "data": {
      "text/html": [
       "<div>\n",
       "<style scoped>\n",
       "    .dataframe tbody tr th:only-of-type {\n",
       "        vertical-align: middle;\n",
       "    }\n",
       "\n",
       "    .dataframe tbody tr th {\n",
       "        vertical-align: top;\n",
       "    }\n",
       "\n",
       "    .dataframe thead th {\n",
       "        text-align: right;\n",
       "    }\n",
       "</style>\n",
       "<table border=\"1\" class=\"dataframe\">\n",
       "  <thead>\n",
       "    <tr style=\"text-align: right;\">\n",
       "      <th></th>\n",
       "      <th>County</th>\n",
       "      <th>Percent Republican</th>\n",
       "      <th>Republican</th>\n",
       "      <th>Total population</th>\n",
       "      <th>Predictions</th>\n",
       "      <th>Percent off</th>\n",
       "      <th>Percent off Abs</th>\n",
       "      <th>R Votes Prediction</th>\n",
       "    </tr>\n",
       "  </thead>\n",
       "  <tbody>\n",
       "    <tr>\n",
       "      <th>0</th>\n",
       "      <td>Wilcox County, Alabama, 2016</td>\n",
       "      <td>0.156219</td>\n",
       "      <td>1737</td>\n",
       "      <td>11119</td>\n",
       "      <td>0.261530</td>\n",
       "      <td>-40.2672</td>\n",
       "      <td>40.2672</td>\n",
       "      <td>2907.951732</td>\n",
       "    </tr>\n",
       "    <tr>\n",
       "      <th>1</th>\n",
       "      <td>Winston County, Alabama, 2016</td>\n",
       "      <td>0.384292</td>\n",
       "      <td>9228</td>\n",
       "      <td>24013</td>\n",
       "      <td>0.308488</td>\n",
       "      <td>24.5726</td>\n",
       "      <td>24.5726</td>\n",
       "      <td>7407.730014</td>\n",
       "    </tr>\n",
       "    <tr>\n",
       "      <th>2</th>\n",
       "      <td>Apache County, Arizona, 2016</td>\n",
       "      <td>0.113897</td>\n",
       "      <td>8240</td>\n",
       "      <td>72346</td>\n",
       "      <td>0.159919</td>\n",
       "      <td>-28.778</td>\n",
       "      <td>28.778</td>\n",
       "      <td>11569.466746</td>\n",
       "    </tr>\n",
       "    <tr>\n",
       "      <th>3</th>\n",
       "      <td>Cochise County, Arizona, 2016</td>\n",
       "      <td>0.219166</td>\n",
       "      <td>28092</td>\n",
       "      <td>128177</td>\n",
       "      <td>0.308488</td>\n",
       "      <td>-28.9549</td>\n",
       "      <td>28.9549</td>\n",
       "      <td>39541.107318</td>\n",
       "    </tr>\n",
       "    <tr>\n",
       "      <th>5</th>\n",
       "      <td>Gila County, Arizona, 2016</td>\n",
       "      <td>0.266684</td>\n",
       "      <td>14182</td>\n",
       "      <td>53179</td>\n",
       "      <td>0.357632</td>\n",
       "      <td>-25.4306</td>\n",
       "      <td>25.4306</td>\n",
       "      <td>19018.515807</td>\n",
       "    </tr>\n",
       "  </tbody>\n",
       "</table>\n",
       "</div>"
      ],
      "text/plain": [
       "                          County Percent Republican Republican  \\\n",
       "0   Wilcox County, Alabama, 2016           0.156219       1737   \n",
       "1  Winston County, Alabama, 2016           0.384292       9228   \n",
       "2   Apache County, Arizona, 2016           0.113897       8240   \n",
       "3  Cochise County, Arizona, 2016           0.219166      28092   \n",
       "5     Gila County, Arizona, 2016           0.266684      14182   \n",
       "\n",
       "   Total population  Predictions Percent off Percent off Abs  \\\n",
       "0             11119     0.261530    -40.2672         40.2672   \n",
       "1             24013     0.308488     24.5726         24.5726   \n",
       "2             72346     0.159919     -28.778          28.778   \n",
       "3            128177     0.308488    -28.9549         28.9549   \n",
       "5             53179     0.357632    -25.4306         25.4306   \n",
       "\n",
       "   R Votes Prediction  \n",
       "0         2907.951732  \n",
       "1         7407.730014  \n",
       "2        11569.466746  \n",
       "3        39541.107318  \n",
       "5        19018.515807  "
      ]
     },
     "execution_count": 21,
     "metadata": {},
     "output_type": "execute_result"
    }
   ],
   "source": [
    "train2_df.head()"
   ]
  },
  {
   "cell_type": "code",
   "execution_count": 22,
   "metadata": {},
   "outputs": [
    {
     "data": {
      "text/html": [
       "<div>\n",
       "<style scoped>\n",
       "    .dataframe tbody tr th:only-of-type {\n",
       "        vertical-align: middle;\n",
       "    }\n",
       "\n",
       "    .dataframe tbody tr th {\n",
       "        vertical-align: top;\n",
       "    }\n",
       "\n",
       "    .dataframe thead th {\n",
       "        text-align: right;\n",
       "    }\n",
       "</style>\n",
       "<table border=\"1\" class=\"dataframe\">\n",
       "  <thead>\n",
       "    <tr style=\"text-align: right;\">\n",
       "      <th></th>\n",
       "      <th>County</th>\n",
       "      <th>Percent Republican</th>\n",
       "      <th>Republican</th>\n",
       "      <th>Total population</th>\n",
       "      <th>Predictions</th>\n",
       "      <th>Percent off</th>\n",
       "      <th>Percent off Abs</th>\n",
       "      <th>R Votes Prediction</th>\n",
       "    </tr>\n",
       "  </thead>\n",
       "  <tbody>\n",
       "    <tr>\n",
       "      <th>4</th>\n",
       "      <td>Coconino County, Arizona, 2016</td>\n",
       "      <td>0.152886</td>\n",
       "      <td>21108</td>\n",
       "      <td>138064</td>\n",
       "      <td>0.212979</td>\n",
       "      <td>-28.2155</td>\n",
       "      <td>28.2155</td>\n",
       "      <td>29404.689655</td>\n",
       "    </tr>\n",
       "    <tr>\n",
       "      <th>8</th>\n",
       "      <td>La Paz County, Arizona, 2016</td>\n",
       "      <td>0.197153</td>\n",
       "      <td>4003</td>\n",
       "      <td>20304</td>\n",
       "      <td>0.357632</td>\n",
       "      <td>-44.8726</td>\n",
       "      <td>44.8726</td>\n",
       "      <td>7261.361532</td>\n",
       "    </tr>\n",
       "    <tr>\n",
       "      <th>10</th>\n",
       "      <td>Mohave County, Arizona, 2016</td>\n",
       "      <td>0.286217</td>\n",
       "      <td>58282</td>\n",
       "      <td>203629</td>\n",
       "      <td>0.357632</td>\n",
       "      <td>-19.969</td>\n",
       "      <td>19.969</td>\n",
       "      <td>72824.260614</td>\n",
       "    </tr>\n",
       "    <tr>\n",
       "      <th>11</th>\n",
       "      <td>Navajo County, Arizona, 2016</td>\n",
       "      <td>0.19016</td>\n",
       "      <td>20577</td>\n",
       "      <td>108209</td>\n",
       "      <td>0.261530</td>\n",
       "      <td>-27.2895</td>\n",
       "      <td>27.2895</td>\n",
       "      <td>28299.896481</td>\n",
       "    </tr>\n",
       "    <tr>\n",
       "      <th>12</th>\n",
       "      <td>Pima County, Arizona, 2016</td>\n",
       "      <td>0.166871</td>\n",
       "      <td>167428</td>\n",
       "      <td>1003338</td>\n",
       "      <td>0.211523</td>\n",
       "      <td>-21.1096</td>\n",
       "      <td>21.1096</td>\n",
       "      <td>212228.668926</td>\n",
       "    </tr>\n",
       "  </tbody>\n",
       "</table>\n",
       "</div>"
      ],
      "text/plain": [
       "                            County Percent Republican Republican  \\\n",
       "4   Coconino County, Arizona, 2016           0.152886      21108   \n",
       "8     La Paz County, Arizona, 2016           0.197153       4003   \n",
       "10    Mohave County, Arizona, 2016           0.286217      58282   \n",
       "11    Navajo County, Arizona, 2016            0.19016      20577   \n",
       "12      Pima County, Arizona, 2016           0.166871     167428   \n",
       "\n",
       "    Total population  Predictions Percent off Percent off Abs  \\\n",
       "4             138064     0.212979    -28.2155         28.2155   \n",
       "8              20304     0.357632    -44.8726         44.8726   \n",
       "10            203629     0.357632     -19.969          19.969   \n",
       "11            108209     0.261530    -27.2895         27.2895   \n",
       "12           1003338     0.211523    -21.1096         21.1096   \n",
       "\n",
       "    R Votes Prediction  \n",
       "4         29404.689655  \n",
       "8          7261.361532  \n",
       "10        72824.260614  \n",
       "11        28299.896481  \n",
       "12       212228.668926  "
      ]
     },
     "execution_count": 22,
     "metadata": {},
     "output_type": "execute_result"
    }
   ],
   "source": [
    "test2_df.head()"
   ]
  },
  {
   "cell_type": "markdown",
   "metadata": {},
   "source": [
    "# 2020 Predictions"
   ]
  },
  {
   "cell_type": "code",
   "execution_count": 23,
   "metadata": {},
   "outputs": [],
   "source": [
    "# Rio Arriba County, New Mexico does not have a reproted Household Median or Mean income \n",
    "Rio_2016_Median = features_2016[features_2016['County'] == 'Rio Arriba County, New Mexico, 2016']['Households Median income']\n",
    "Rio_2016_Mean = features_2016[features_2016['County'] == 'Rio Arriba County, New Mexico, 2016']['Households Mean income']"
   ]
  },
  {
   "cell_type": "code",
   "execution_count": 24,
   "metadata": {},
   "outputs": [],
   "source": [
    "# Rio Arriba County, New Mexico is missing mean and median income info. Replacing with 2016 info.\n",
    "values = {'Households Median income': Rio_2016_Median.values[0],\n",
    "          'Households Mean income': Rio_2016_Mean.values[0]}\n",
    "\n",
    "features_2018 = features_2018.fillna(value=values)\n",
    "features_2020 = features_2018.drop(columns=['County','Total population'])"
   ]
  },
  {
   "cell_type": "code",
   "execution_count": 25,
   "metadata": {},
   "outputs": [],
   "source": [
    "predictions_2020 = linreg.predict(features_2020)"
   ]
  },
  {
   "cell_type": "code",
   "execution_count": 26,
   "metadata": {},
   "outputs": [],
   "source": [
    "R_2020_percent = pd.DataFrame(predictions_2020)"
   ]
  },
  {
   "cell_type": "code",
   "execution_count": 27,
   "metadata": {},
   "outputs": [],
   "source": [
    "_ = features_2018['County'].str.split(',', expand=True)\n",
    "_ = _.rename(columns={1: 'State'})"
   ]
  },
  {
   "cell_type": "code",
   "execution_count": 28,
   "metadata": {},
   "outputs": [],
   "source": [
    "results_2020 = pd.DataFrame.merge(features_2018['County'],\n",
    "                                  _['State'],\n",
    "                                  left_index=True, right_index=True)\n",
    "\n",
    "results_2020 = results_2020.merge(features_2018['Total population'],\n",
    "                                  left_index=True, right_index=True)\n",
    "\n",
    "results_2020 = results_2020.merge(R_2020_percent, left_index=True, right_index=True)\n",
    "results_2020 = results_2020.rename(columns={0: 'R Percent'})\n",
    "results_2020['R Votes'] = (results_2020['R Percent'] * results_2020['Total population']).round()"
   ]
  },
  {
   "cell_type": "code",
   "execution_count": 29,
   "metadata": {},
   "outputs": [
    {
     "data": {
      "text/html": [
       "<div>\n",
       "<style scoped>\n",
       "    .dataframe tbody tr th:only-of-type {\n",
       "        vertical-align: middle;\n",
       "    }\n",
       "\n",
       "    .dataframe tbody tr th {\n",
       "        vertical-align: top;\n",
       "    }\n",
       "\n",
       "    .dataframe thead th {\n",
       "        text-align: right;\n",
       "    }\n",
       "</style>\n",
       "<table border=\"1\" class=\"dataframe\">\n",
       "  <thead>\n",
       "    <tr style=\"text-align: right;\">\n",
       "      <th></th>\n",
       "      <th>County</th>\n",
       "      <th>State</th>\n",
       "      <th>Total population</th>\n",
       "      <th>R Percent</th>\n",
       "      <th>R Votes</th>\n",
       "    </tr>\n",
       "  </thead>\n",
       "  <tbody>\n",
       "    <tr>\n",
       "      <th>0</th>\n",
       "      <td>Autauga County, Alabama</td>\n",
       "      <td>Alabama</td>\n",
       "      <td>55200</td>\n",
       "      <td>0.235508</td>\n",
       "      <td>13000.0</td>\n",
       "    </tr>\n",
       "    <tr>\n",
       "      <th>1</th>\n",
       "      <td>Baldwin County, Alabama</td>\n",
       "      <td>Alabama</td>\n",
       "      <td>208107</td>\n",
       "      <td>0.282138</td>\n",
       "      <td>58715.0</td>\n",
       "    </tr>\n",
       "    <tr>\n",
       "      <th>2</th>\n",
       "      <td>Barbour County, Alabama</td>\n",
       "      <td>Alabama</td>\n",
       "      <td>25782</td>\n",
       "      <td>0.206376</td>\n",
       "      <td>5321.0</td>\n",
       "    </tr>\n",
       "    <tr>\n",
       "      <th>3</th>\n",
       "      <td>Bibb County, Alabama</td>\n",
       "      <td>Alabama</td>\n",
       "      <td>22527</td>\n",
       "      <td>0.285384</td>\n",
       "      <td>6429.0</td>\n",
       "    </tr>\n",
       "    <tr>\n",
       "      <th>4</th>\n",
       "      <td>Blount County, Alabama</td>\n",
       "      <td>Alabama</td>\n",
       "      <td>57645</td>\n",
       "      <td>0.271991</td>\n",
       "      <td>15679.0</td>\n",
       "    </tr>\n",
       "    <tr>\n",
       "      <th>...</th>\n",
       "      <td>...</td>\n",
       "      <td>...</td>\n",
       "      <td>...</td>\n",
       "      <td>...</td>\n",
       "      <td>...</td>\n",
       "    </tr>\n",
       "    <tr>\n",
       "      <th>3215</th>\n",
       "      <td>Vega Baja Municipio, Puerto Rico</td>\n",
       "      <td>Puerto Rico</td>\n",
       "      <td>53371</td>\n",
       "      <td>0.206291</td>\n",
       "      <td>11010.0</td>\n",
       "    </tr>\n",
       "    <tr>\n",
       "      <th>3216</th>\n",
       "      <td>Vieques Municipio, Puerto Rico</td>\n",
       "      <td>Puerto Rico</td>\n",
       "      <td>8771</td>\n",
       "      <td>0.272371</td>\n",
       "      <td>2389.0</td>\n",
       "    </tr>\n",
       "    <tr>\n",
       "      <th>3217</th>\n",
       "      <td>Villalba Municipio, Puerto Rico</td>\n",
       "      <td>Puerto Rico</td>\n",
       "      <td>22993</td>\n",
       "      <td>0.266773</td>\n",
       "      <td>6134.0</td>\n",
       "    </tr>\n",
       "    <tr>\n",
       "      <th>3218</th>\n",
       "      <td>Yabucoa Municipio, Puerto Rico</td>\n",
       "      <td>Puerto Rico</td>\n",
       "      <td>34149</td>\n",
       "      <td>0.255644</td>\n",
       "      <td>8730.0</td>\n",
       "    </tr>\n",
       "    <tr>\n",
       "      <th>3219</th>\n",
       "      <td>Yauco Municipio, Puerto Rico</td>\n",
       "      <td>Puerto Rico</td>\n",
       "      <td>36439</td>\n",
       "      <td>0.254925</td>\n",
       "      <td>9289.0</td>\n",
       "    </tr>\n",
       "  </tbody>\n",
       "</table>\n",
       "<p>3220 rows × 5 columns</p>\n",
       "</div>"
      ],
      "text/plain": [
       "                                County         State  Total population  \\\n",
       "0              Autauga County, Alabama       Alabama             55200   \n",
       "1              Baldwin County, Alabama       Alabama            208107   \n",
       "2              Barbour County, Alabama       Alabama             25782   \n",
       "3                 Bibb County, Alabama       Alabama             22527   \n",
       "4               Blount County, Alabama       Alabama             57645   \n",
       "...                                ...           ...               ...   \n",
       "3215  Vega Baja Municipio, Puerto Rico   Puerto Rico             53371   \n",
       "3216    Vieques Municipio, Puerto Rico   Puerto Rico              8771   \n",
       "3217   Villalba Municipio, Puerto Rico   Puerto Rico             22993   \n",
       "3218    Yabucoa Municipio, Puerto Rico   Puerto Rico             34149   \n",
       "3219      Yauco Municipio, Puerto Rico   Puerto Rico             36439   \n",
       "\n",
       "      R Percent  R Votes  \n",
       "0      0.235508  13000.0  \n",
       "1      0.282138  58715.0  \n",
       "2      0.206376   5321.0  \n",
       "3      0.285384   6429.0  \n",
       "4      0.271991  15679.0  \n",
       "...         ...      ...  \n",
       "3215   0.206291  11010.0  \n",
       "3216   0.272371   2389.0  \n",
       "3217   0.266773   6134.0  \n",
       "3218   0.255644   8730.0  \n",
       "3219   0.254925   9289.0  \n",
       "\n",
       "[3220 rows x 5 columns]"
      ]
     },
     "execution_count": 29,
     "metadata": {},
     "output_type": "execute_result"
    }
   ],
   "source": [
    "results_2020"
   ]
  },
  {
   "cell_type": "code",
   "execution_count": null,
   "metadata": {},
   "outputs": [],
   "source": []
  }
 ],
 "metadata": {
  "kernelspec": {
   "display_name": "Python 3",
   "language": "python",
   "name": "python3"
  },
  "language_info": {
   "codemirror_mode": {
    "name": "ipython",
    "version": 3
   },
   "file_extension": ".py",
   "mimetype": "text/x-python",
   "name": "python",
   "nbconvert_exporter": "python",
   "pygments_lexer": "ipython3",
   "version": "3.6.5"
  }
 },
 "nbformat": 4,
 "nbformat_minor": 2
}
